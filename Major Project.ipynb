{
 "cells": [
  {
   "cell_type": "code",
   "execution_count": 2,
   "metadata": {},
   "outputs": [],
   "source": [
    "import pandas as pd\n",
    "import numpy as np"
   ]
  },
  {
   "cell_type": "code",
   "execution_count": 4,
   "metadata": {},
   "outputs": [],
   "source": [
    "path = 'user_classification1.csv'\n",
    "df = pd.read_csv(path, engine='python')"
   ]
  },
  {
   "cell_type": "code",
   "execution_count": 5,
   "metadata": {},
   "outputs": [
    {
     "data": {
      "text/plain": [
       "Index(['AuthorName', 'AuthorSocialID', 'Bio', 'keywords', 'bio_cat'], dtype='object')"
      ]
     },
     "execution_count": 5,
     "metadata": {},
     "output_type": "execute_result"
    }
   ],
   "source": [
    "df.columns"
   ]
  },
  {
   "cell_type": "code",
   "execution_count": 6,
   "metadata": {},
   "outputs": [],
   "source": [
    "data = pd.DataFrame({'Bio':df.Bio})"
   ]
  },
  {
   "cell_type": "code",
   "execution_count": 7,
   "metadata": {},
   "outputs": [
    {
     "data": {
      "text/plain": [
       "<bound method NDFrame.head of                                                       Bio\n",
       "0       Clown|Broadcaster- #HMB & @StPeteFL City Hall ...\n",
       "1       Minseok singing “I’ll search the universeeeeee...\n",
       "2       I'm Frank's monster of a bot, aka as Fernk, wh...\n",
       "3                COD Player For @ExoMoonGaming #ToTheMoon\n",
       "4             https://youtu.be/MzSkvRBDSXA\\n\\n#Perfection\n",
       "...                                                   ...\n",
       "167611          $elfieholic @S1dharthm fan 😘 influencer ✌\n",
       "167612  Wife | Mother | Friend | Dreamer | Write Somet...\n",
       "167613  Sometimes your plans don't work out because Go...\n",
       "167614  love to watch movie , travelling ,missing my o...\n",
       "167615                   Social Media Expert. Influencer!\n",
       "\n",
       "[167616 rows x 1 columns]>"
      ]
     },
     "execution_count": 7,
     "metadata": {},
     "output_type": "execute_result"
    }
   ],
   "source": [
    "data.head"
   ]
  },
  {
   "cell_type": "code",
   "execution_count": 8,
   "metadata": {},
   "outputs": [],
   "source": [
    "from preprocessing.primary_preprocessor import all_punct_cleaning\n",
    "from preprocessing.hashtag_cleaner import extract_hashtags\n",
    "from preprocessing.contraction import contraction_handler\n",
    "from preprocessing.url_cleaner import clean_url"
   ]
  },
  {
   "cell_type": "code",
   "execution_count": 9,
   "metadata": {},
   "outputs": [],
   "source": [
    "text = data[[\"Bio\"]]\n",
    "text[\"Bio\"] = text[\"Bio\"].apply(lambda x: str(x).lower())\n",
    "text[\"Bio\"] = text[\"Bio\"].apply(lambda x: clean_url(str(x)))\n",
    "text[\"Bio\"] = text[\"Bio\"].apply(lambda x: extract_hashtags(str(x)))\n",
    "text[\"Bio\"] = text[\"Bio\"].apply(lambda x: contraction_handler(x))\n",
    "text[\"Bio\"] = text[\"Bio\"].apply(lambda x: all_punct_cleaning(x))"
   ]
  },
  {
   "cell_type": "code",
   "execution_count": 10,
   "metadata": {},
   "outputs": [
    {
     "data": {
      "text/plain": [
       "<bound method NDFrame.head of                                                       Bio\n",
       "0       clown broadcaster stpetefl city hall broadcast...\n",
       "1       minseok singing I will search the universeeeee...\n",
       "2       I am frank monster of a bot aka as fernk who i...\n",
       "3                cod player for exomoongaming to the moon\n",
       "4                                              perfection\n",
       "...                                                   ...\n",
       "167611            elfieholic s1dharthm fan 😘 influencer ✌\n",
       "167612  wife mother friend dreamer write sometimes lif...\n",
       "167613  sometimes your plans do not work out because g...\n",
       "167614  love to watch movie travelling missing my old ...\n",
       "167615                     social media expert influencer\n",
       "\n",
       "[167616 rows x 1 columns]>"
      ]
     },
     "execution_count": 10,
     "metadata": {},
     "output_type": "execute_result"
    }
   ],
   "source": [
    "text.head"
   ]
  },
  {
   "cell_type": "code",
   "execution_count": null,
   "metadata": {},
   "outputs": [],
   "source": []
  }
 ],
 "metadata": {
  "kernelspec": {
   "display_name": "Python 3",
   "language": "python",
   "name": "python3"
  },
  "language_info": {
   "codemirror_mode": {
    "name": "ipython",
    "version": 3
   },
   "file_extension": ".py",
   "mimetype": "text/x-python",
   "name": "python",
   "nbconvert_exporter": "python",
   "pygments_lexer": "ipython3",
   "version": "3.8.5"
  }
 },
 "nbformat": 4,
 "nbformat_minor": 4
}
